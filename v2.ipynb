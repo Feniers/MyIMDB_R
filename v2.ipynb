{
 "cells": [
  {
   "cell_type": "code",
   "execution_count": 41,
   "outputs": [
    {
     "name": "stderr",
     "output_type": "stream",
     "text": [
      "C:\\Users\\30635\\AppData\\Local\\Temp\\ipykernel_23524\\3024357561.py:21: UserWarning: pandas only supports SQLAlchemy connectable (engine/connection) or database string URI or sqlite3 DBAPI2 connection. Other DBAPI2 objects are not tested. Please consider using SQLAlchemy.\n",
      "  movies_metadata = pd.read_sql(query, conn)\n",
      "C:\\Users\\30635\\AppData\\Local\\Temp\\ipykernel_23524\\3024357561.py:22: UserWarning: pandas only supports SQLAlchemy connectable (engine/connection) or database string URI or sqlite3 DBAPI2 connection. Other DBAPI2 objects are not tested. Please consider using SQLAlchemy.\n",
      "  ratings_small = pd.read_sql('SELECT * FROM ratings_small', conn)\n",
      "C:\\Users\\30635\\AppData\\Local\\Temp\\ipykernel_23524\\3024357561.py:23: UserWarning: pandas only supports SQLAlchemy connectable (engine/connection) or database string URI or sqlite3 DBAPI2 connection. Other DBAPI2 objects are not tested. Please consider using SQLAlchemy.\n",
      "  user = pd.read_sql('SELECT * FROM user', conn)\n"
     ]
    }
   ],
   "source": [
    "import pymysql\n",
    "import pandas as pd\n",
    "\n",
    "# 连接数据库\n",
    "conn = pymysql.connect(host='59.110.49.185',\n",
    "                       port=3306,\n",
    "                       user='dmsTest',\n",
    "                       password='MyIMDBsx123.',\n",
    "                       database='imdb',\n",
    "                       charset='utf8')\n",
    "\n",
    "# 确保查询所有列\n",
    "query = '''\n",
    "SELECT id,  popularity,\n",
    "        adult,  budget, genres,\n",
    "       release_date,\n",
    "       revenue, runtime,  status, tagline, vote_average, vote_count\n",
    "FROM movies_metadata\n",
    "'''\n",
    "\n",
    "movies_metadata = pd.read_sql(query, conn)\n",
    "ratings_small = pd.read_sql('SELECT * FROM ratings_small', conn)\n",
    "user = pd.read_sql('SELECT * FROM user', conn)\n",
    "conn.close()"
   ],
   "metadata": {
    "collapsed": false,
    "ExecuteTime": {
     "end_time": "2024-05-31T11:45:43.971590100Z",
     "start_time": "2024-05-31T11:45:41.861411800Z"
    }
   }
  },
  {
   "cell_type": "code",
   "execution_count": 42,
   "outputs": [
    {
     "name": "stdout",
     "output_type": "stream",
     "text": [
      "(600, 40434)\n",
      "id  2       3       5       6       11      12      13      14      15      \\\n",
      "id                                                                           \n",
      "1      0.0     0.0     0.0     0.0     0.0     0.0     0.0     0.0     0.0   \n",
      "2      0.0     0.0     0.0     0.0     0.0     0.0     0.0     0.0     0.0   \n",
      "3      0.0     0.0     0.0     0.0     0.0     0.0     0.0     0.0     0.0   \n",
      "4      0.0     0.0     0.0     0.0     0.0     0.0     0.0     0.0     0.0   \n",
      "5      0.0     4.0     0.0     0.0     0.0     0.0     0.0     0.0     0.0   \n",
      "\n",
      "id  16      ...  463800  463906  464111  464207  464819  465044  467731  \\\n",
      "id          ...                                                           \n",
      "1      0.0  ...     0.0     0.0     0.0     0.0     0.0     0.0     0.0   \n",
      "2      0.0  ...     0.0     0.0     0.0     0.0     0.0     0.0     0.0   \n",
      "3      0.0  ...     0.0     0.0     0.0     0.0     0.0     0.0     0.0   \n",
      "4      0.0  ...     0.0     0.0     0.0     0.0     0.0     0.0     0.0   \n",
      "5      0.0  ...     0.0     0.0     0.0     0.0     0.0     0.0     0.0   \n",
      "\n",
      "id  468343  468707  469172  \n",
      "id                          \n",
      "1      0.0     0.0     0.0  \n",
      "2      0.0     0.0     0.0  \n",
      "3      0.0     0.0     0.0  \n",
      "4      0.0     0.0     0.0  \n",
      "5      0.0     0.0     0.0  \n",
      "\n",
      "[5 rows x 40434 columns]\n"
     ]
    }
   ],
   "source": [
    "import numpy as np\n",
    "\n",
    "# 创建一个包含所有用户和电影的矩阵\n",
    "users = user['id']\n",
    "movies = movies_metadata['id']\n",
    "user_item_matrix = np.zeros((len(users), len(movies)))\n",
    "\n",
    "# 构建用户-电影索引字典\n",
    "user_id_map = {user_id: idx for idx, user_id in enumerate(users)}\n",
    "movie_id_map = {movie_id: idx for idx, movie_id in enumerate(movies)}\n",
    "\n",
    "# 使用评分数据填充矩阵\n",
    "for idx, rating_row in ratings_small.iterrows():\n",
    "    user_id = rating_row['userId']\n",
    "    movie_id = rating_row['movieId']\n",
    "    rating = rating_row['rating']\n",
    "\n",
    "    if user_id in user_id_map and movie_id in movie_id_map:\n",
    "        user_idx = user_id_map[user_id]\n",
    "        movie_idx = movie_id_map[movie_id]\n",
    "        user_item_matrix[user_idx, movie_idx] = rating\n",
    "\n",
    "# 将矩阵转换为DataFrame\n",
    "user_item_matrix = pd.DataFrame(user_item_matrix, index=users, columns=movies)\n",
    "\n",
    "print(user_item_matrix.shape)\n",
    "print(user_item_matrix.head())"
   ],
   "metadata": {
    "collapsed": false,
    "ExecuteTime": {
     "end_time": "2024-05-31T11:45:46.553858200Z",
     "start_time": "2024-05-31T11:45:43.975587Z"
    }
   }
  },
  {
   "cell_type": "code",
   "execution_count": 43,
   "outputs": [
    {
     "name": "stdout",
     "output_type": "stream",
     "text": [
      "     age  gender_0  gender_1\n",
      "id                          \n",
      "1   20.0     False      True\n",
      "2   60.0      True     False\n",
      "3   39.0     False      True\n",
      "4   51.0      True     False\n",
      "5   51.0      True     False\n"
     ]
    }
   ],
   "source": [
    "# 将性别转换为哑变量（one-hot encoding）\n",
    "user_features = pd.get_dummies(user[['age', 'gender']], columns=['gender'])\n",
    "\n",
    "# 将用户ID作为索引\n",
    "user_features.index = user['id']\n",
    "\n",
    "print(user_features.head())\n",
    "\n",
    "# 转换为df\n"
   ],
   "metadata": {
    "collapsed": false,
    "ExecuteTime": {
     "end_time": "2024-05-31T11:45:46.591209100Z",
     "start_time": "2024-05-31T11:45:46.557860100Z"
    }
   }
  },
  {
   "cell_type": "code",
   "execution_count": 44,
   "outputs": [],
   "source": [
    "# 构建用户-物品评分矩阵\n",
    "# user_item_matrix = ratings_small.pivot(index='userId', columns='movieId', values='rating').fillna(0)\n",
    "\n",
    "# print(user_item_matrix.head())\n"
   ],
   "metadata": {
    "collapsed": false,
    "ExecuteTime": {
     "end_time": "2024-05-31T11:45:46.648660800Z",
     "start_time": "2024-05-31T11:45:46.572205200Z"
    }
   }
  },
  {
   "cell_type": "code",
   "execution_count": 45,
   "outputs": [
    {
     "name": "stdout",
     "output_type": "stream",
     "text": [
      "    popularity  vote_average  vote_count  adult  Action  Adventure  Animation  \\\n",
      "id                                                                              \n",
      "2     3.860491           7.1        44.0      0       0          0          0   \n",
      "3     2.292110           7.1        35.0      0       0          0          0   \n",
      "5     9.026586           6.5       539.0      0       0          0          0   \n",
      "6     5.538671           6.4        79.0      0       1          0          0   \n",
      "11   42.149697           8.1      6778.0      0       1          1          0   \n",
      "\n",
      "    Comedy  Crime  Documentary  ...  History  Horror  Music  Mystery  Romance  \\\n",
      "id                              ...                                             \n",
      "2        0      1            0  ...        0       0      0        0        0   \n",
      "3        1      0            0  ...        0       0      0        0        0   \n",
      "5        1      1            0  ...        0       0      0        0        0   \n",
      "6        0      1            0  ...        0       0      0        0        0   \n",
      "11       0      0            0  ...        0       0      0        0        0   \n",
      "\n",
      "    Science Fiction  TV Movie  Thriller  War  Western  \n",
      "id                                                     \n",
      "2                 0         0         0    0        0  \n",
      "3                 0         0         0    0        0  \n",
      "5                 0         0         0    0        0  \n",
      "6                 0         0         1    0        0  \n",
      "11                1         0         0    0        0  \n",
      "\n",
      "[5 rows x 24 columns]\n"
     ]
    }
   ],
   "source": [
    "import ast\n",
    "\n",
    "# 解析 genres 列\n",
    "def parse_genres(genres_str):\n",
    "    try:\n",
    "        genres_list = ast.literal_eval(genres_str)\n",
    "        return [genre['name'] for genre in genres_list]\n",
    "    except (ValueError, SyntaxError):\n",
    "        return []\n",
    "\n",
    "# 应用解析函数\n",
    "movies_metadata['genres'] = movies_metadata['genres'].apply(parse_genres)\n",
    "\n",
    "# 将类型转换为哑变量（one-hot encoding）\n",
    "item_features = movies_metadata['genres'].str.join('|').str.get_dummies()\n",
    "\n",
    "item_features=pd.concat([movies_metadata[['popularity', 'vote_average', 'vote_count','adult']],item_features],axis=1)\n",
    "\n",
    "# 将电影ID作为索引\n",
    "item_features.index = movies_metadata['id']\n",
    "\n",
    "print(item_features.head())"
   ],
   "metadata": {
    "collapsed": false,
    "ExecuteTime": {
     "end_time": "2024-05-31T11:45:47.683450500Z",
     "start_time": "2024-05-31T11:45:46.590211200Z"
    }
   }
  },
  {
   "cell_type": "code",
   "execution_count": 47,
   "outputs": [
    {
     "name": "stdout",
     "output_type": "stream",
     "text": [
      "item_features_imputed 缺失值数量： 0\n",
      "user_features_imputed 缺失值数量： 0\n"
     ]
    }
   ],
   "source": [
    "from sklearn.impute import SimpleImputer\n",
    "\n",
    "# 创建一个简单的填补器，使用均值填补缺失值\n",
    "imputer = SimpleImputer(strategy='mean')\n",
    "\n",
    "# 对 item_features 应用填补器\n",
    "item_features_imputed = imputer.fit_transform(item_features)\n",
    "\n",
    "# 对 user_features 应用填补器\n",
    "user_features_imputed = imputer.fit_transform(user_features)\n",
    "\n",
    "# 将填补后的数据转换为 DataFrame\n",
    "item_features = pd.DataFrame(item_features_imputed, index=item_features.index, columns=item_features.columns)\n",
    "user_features = pd.DataFrame(user_features_imputed, index=user_features.index, columns=user_features.columns)\n",
    "\n",
    "# 检查填补后的数据是否仍然有缺失值\n",
    "print(\"item_features_imputed 缺失值数量：\", item_features.isnull().sum().sum())\n",
    "print(\"user_features_imputed 缺失值数量：\", user_features.isnull().sum().sum())"
   ],
   "metadata": {
    "collapsed": false,
    "ExecuteTime": {
     "end_time": "2024-05-31T11:45:47.758687900Z",
     "start_time": "2024-05-31T11:45:47.702637700Z"
    }
   }
  },
  {
   "cell_type": "code",
   "execution_count": 50,
   "outputs": [
    {
     "name": "stdout",
     "output_type": "stream",
     "text": [
      "(600, 40434)\n",
      "(40434, 24)\n",
      "(600, 3)\n"
     ]
    }
   ],
   "source": [
    "# 检查数据维度\n",
    "print(user_item_matrix.shape)\n",
    "print(item_features.shape)\n",
    "print(user_features.shape)"
   ],
   "metadata": {
    "collapsed": false,
    "ExecuteTime": {
     "end_time": "2024-05-31T11:49:27.580868200Z",
     "start_time": "2024-05-31T11:49:27.555815400Z"
    }
   }
  },
  {
   "cell_type": "code",
   "execution_count": 49,
   "outputs": [
    {
     "ename": "ValueError",
     "evalue": "matrices are not aligned",
     "output_type": "error",
     "traceback": [
      "\u001B[1;31m---------------------------------------------------------------------------\u001B[0m",
      "\u001B[1;31mValueError\u001B[0m                                Traceback (most recent call last)",
      "Cell \u001B[1;32mIn[49], line 53\u001B[0m\n\u001B[0;32m     51\u001B[0m \u001B[38;5;66;03m# 假设已加载user_item_matrix, item_features, user_features, movies_metadata\u001B[39;00m\n\u001B[0;32m     52\u001B[0m user_id \u001B[38;5;241m=\u001B[39m \u001B[38;5;241m2\u001B[39m\n\u001B[1;32m---> 53\u001B[0m recommended_movies \u001B[38;5;241m=\u001B[39m \u001B[43mrecommend_movies\u001B[49m\u001B[43m(\u001B[49m\u001B[43muser_id\u001B[49m\u001B[43m,\u001B[49m\u001B[43m \u001B[49m\u001B[43muser_item_matrix\u001B[49m\u001B[43m,\u001B[49m\u001B[43m \u001B[49m\u001B[43mitem_features\u001B[49m\u001B[43m,\u001B[49m\u001B[43m \u001B[49m\u001B[43muser_features\u001B[49m\u001B[43m,\u001B[49m\u001B[43m \u001B[49m\u001B[43mmovies_metadata\u001B[49m\u001B[43m)\u001B[49m\n\u001B[0;32m     54\u001B[0m \u001B[38;5;28mprint\u001B[39m(recommended_movies)\n",
      "Cell \u001B[1;32mIn[49], line 39\u001B[0m, in \u001B[0;36mrecommend_movies\u001B[1;34m(user_id, user_item_matrix, item_features, user_features, movies_metadata)\u001B[0m\n\u001B[0;32m     37\u001B[0m \u001B[38;5;28;01mdef\u001B[39;00m \u001B[38;5;21mrecommend_movies\u001B[39m(user_id, user_item_matrix, item_features, user_features, movies_metadata):\n\u001B[0;32m     38\u001B[0m     \u001B[38;5;66;03m# 召回阶段\u001B[39;00m\n\u001B[1;32m---> 39\u001B[0m     recall_items \u001B[38;5;241m=\u001B[39m \u001B[43mrecall_stage\u001B[49m\u001B[43m(\u001B[49m\u001B[43muser_id\u001B[49m\u001B[43m,\u001B[49m\u001B[43m \u001B[49m\u001B[43muser_item_matrix\u001B[49m\u001B[43m)\u001B[49m\n\u001B[0;32m     41\u001B[0m     \u001B[38;5;66;03m# 粗排阶段\u001B[39;00m\n\u001B[0;32m     42\u001B[0m     rough_items \u001B[38;5;241m=\u001B[39m rough_ranking(user_id, recall_items, item_features)\n",
      "Cell \u001B[1;32mIn[49], line 9\u001B[0m, in \u001B[0;36mrecall_stage\u001B[1;34m(user_id, user_item_matrix, top_n)\u001B[0m\n\u001B[0;32m      6\u001B[0m \u001B[38;5;28;01mdef\u001B[39;00m \u001B[38;5;21mrecall_stage\u001B[39m(user_id, user_item_matrix, top_n\u001B[38;5;241m=\u001B[39m\u001B[38;5;241m100\u001B[39m):\n\u001B[0;32m      7\u001B[0m     \u001B[38;5;66;03m# 基于协同过滤的召回策略\u001B[39;00m\n\u001B[0;32m      8\u001B[0m     user_vector \u001B[38;5;241m=\u001B[39m user_item_matrix[user_id]\n\u001B[1;32m----> 9\u001B[0m     scores \u001B[38;5;241m=\u001B[39m \u001B[43muser_item_matrix\u001B[49m\u001B[38;5;241;43m.\u001B[39;49m\u001B[43mdot\u001B[49m\u001B[43m(\u001B[49m\u001B[43muser_vector\u001B[49m\u001B[43m)\u001B[49m\n\u001B[0;32m     10\u001B[0m     top_items \u001B[38;5;241m=\u001B[39m scores\u001B[38;5;241m.\u001B[39margsort()[\u001B[38;5;241m-\u001B[39mtop_n:][::\u001B[38;5;241m-\u001B[39m\u001B[38;5;241m1\u001B[39m]\n\u001B[0;32m     11\u001B[0m     \u001B[38;5;28;01mreturn\u001B[39;00m top_items\n",
      "File \u001B[1;32mD:\\WorkSpace\\pycharm\\projects\\venv\\lib\\site-packages\\pandas\\core\\frame.py:1725\u001B[0m, in \u001B[0;36mDataFrame.dot\u001B[1;34m(self, other)\u001B[0m\n\u001B[0;32m   1723\u001B[0m common \u001B[38;5;241m=\u001B[39m \u001B[38;5;28mself\u001B[39m\u001B[38;5;241m.\u001B[39mcolumns\u001B[38;5;241m.\u001B[39munion(other\u001B[38;5;241m.\u001B[39mindex)\n\u001B[0;32m   1724\u001B[0m \u001B[38;5;28;01mif\u001B[39;00m \u001B[38;5;28mlen\u001B[39m(common) \u001B[38;5;241m>\u001B[39m \u001B[38;5;28mlen\u001B[39m(\u001B[38;5;28mself\u001B[39m\u001B[38;5;241m.\u001B[39mcolumns) \u001B[38;5;129;01mor\u001B[39;00m \u001B[38;5;28mlen\u001B[39m(common) \u001B[38;5;241m>\u001B[39m \u001B[38;5;28mlen\u001B[39m(other\u001B[38;5;241m.\u001B[39mindex):\n\u001B[1;32m-> 1725\u001B[0m     \u001B[38;5;28;01mraise\u001B[39;00m \u001B[38;5;167;01mValueError\u001B[39;00m(\u001B[38;5;124m\"\u001B[39m\u001B[38;5;124mmatrices are not aligned\u001B[39m\u001B[38;5;124m\"\u001B[39m)\n\u001B[0;32m   1727\u001B[0m left \u001B[38;5;241m=\u001B[39m \u001B[38;5;28mself\u001B[39m\u001B[38;5;241m.\u001B[39mreindex(columns\u001B[38;5;241m=\u001B[39mcommon, copy\u001B[38;5;241m=\u001B[39m\u001B[38;5;28;01mFalse\u001B[39;00m)\n\u001B[0;32m   1728\u001B[0m right \u001B[38;5;241m=\u001B[39m other\u001B[38;5;241m.\u001B[39mreindex(index\u001B[38;5;241m=\u001B[39mcommon, copy\u001B[38;5;241m=\u001B[39m\u001B[38;5;28;01mFalse\u001B[39;00m)\n",
      "\u001B[1;31mValueError\u001B[0m: matrices are not aligned"
     ]
    }
   ],
   "source": [
    "import torch\n",
    "import pandas as pd\n",
    "from sklearn.linear_model import LogisticRegression\n",
    "\n",
    "# 召回阶段\n",
    "def recall_stage(user_id, user_item_matrix, top_n=100):\n",
    "    # 基于协同过滤的召回策略\n",
    "    user_vector = user_item_matrix[user_id]\n",
    "    scores = user_item_matrix.dot(user_vector)\n",
    "    top_items = scores.argsort()[-top_n:][::-1]\n",
    "    return top_items\n",
    "\n",
    "# 粗排阶段\n",
    "def rough_ranking(user_id, candidate_items, item_features, top_n=50):\n",
    "    # 简单的线性模型进行粗排\n",
    "    model = LogisticRegression()\n",
    "    model.fit(item_features, candidate_items)\n",
    "    scores = model.predict_proba(item_features[candidate_items])[:, 1]\n",
    "    top_items = candidate_items[scores.argsort()[-top_n:][::-1]]\n",
    "    return top_items\n",
    "\n",
    "# 精排阶段\n",
    "def fine_ranking(user_id, candidate_items, item_features, user_features, top_n=10):\n",
    "    # 使用复杂模型进行精排（例如神经网络）\n",
    "    model = torch.nn.Sequential(\n",
    "        torch.nn.Linear(item_features.shape[1] + user_features.shape[1], 128),\n",
    "        torch.nn.ReLU(),\n",
    "        torch.nn.Linear(128, 1)\n",
    "    )\n",
    "    user_vector = user_features[user_id].repeat(len(candidate_items), 1)\n",
    "    input_features = torch.cat((item_features[candidate_items], user_vector), dim=1)\n",
    "    scores = model(input_features)\n",
    "    top_items = candidate_items[scores.argsort()[-top_n:][::-1]]\n",
    "    return top_items\n",
    "\n",
    "# 主推荐流程\n",
    "def recommend_movies(user_id, user_item_matrix, item_features, user_features, movies_metadata):\n",
    "    # 召回阶段\n",
    "    recall_items = recall_stage(user_id, user_item_matrix)\n",
    "\n",
    "    # 粗排阶段\n",
    "    rough_items = rough_ranking(user_id, recall_items, item_features)\n",
    "\n",
    "    # 精排阶段\n",
    "    final_items = fine_ranking(user_id, rough_items, item_features, user_features)\n",
    "\n",
    "    # 返回推荐结果\n",
    "    recommended_movies = movies_metadata[movies_metadata['id'].isin(final_items)]\n",
    "    return recommended_movies\n",
    "\n",
    "# 假设已加载user_item_matrix, item_features, user_features, movies_metadata\n",
    "user_id = 2\n",
    "recommended_movies = recommend_movies(user_id, user_item_matrix, item_features, user_features, movies_metadata)\n",
    "print(recommended_movies)\n"
   ],
   "metadata": {
    "collapsed": false,
    "ExecuteTime": {
     "end_time": "2024-05-31T11:45:47.823209800Z",
     "start_time": "2024-05-31T11:45:47.766650Z"
    }
   }
  }
 ],
 "metadata": {
  "kernelspec": {
   "display_name": "Python 3",
   "language": "python",
   "name": "python3"
  },
  "language_info": {
   "codemirror_mode": {
    "name": "ipython",
    "version": 2
   },
   "file_extension": ".py",
   "mimetype": "text/x-python",
   "name": "python",
   "nbconvert_exporter": "python",
   "pygments_lexer": "ipython2",
   "version": "2.7.6"
  }
 },
 "nbformat": 4,
 "nbformat_minor": 0
}
