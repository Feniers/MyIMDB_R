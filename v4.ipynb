{
 "cells": [
  {
   "cell_type": "code",
   "execution_count": 33,
   "outputs": [],
   "source": [
    "import pandas as pd\n",
    "import numpy as np\n",
    "\n",
    "# 读取数据\n",
    "user_item_matrix = pd.read_csv('user_movie_df.csv',index_col=0)\n",
    "item_similarity_df = pd.read_csv('item_similarity.csv',index_col=0)\n",
    "\n",
    "user_item_matrix.index.name = 'id'\n"
   ],
   "metadata": {
    "collapsed": false,
    "ExecuteTime": {
     "end_time": "2024-06-03T14:28:01.879978800Z",
     "start_time": "2024-06-03T14:27:36.735344200Z"
    }
   }
  },
  {
   "cell_type": "code",
   "execution_count": 35,
   "outputs": [
    {
     "data": {
      "text/plain": "                1         2         3         4         5         6         7  \\\nmovieId                                                                         \n1        1.000000  0.394511  0.306516  0.133614  0.245102  0.377086  0.278629   \n2        0.394511  1.000000  0.217492  0.164651  0.278476  0.222003  0.207299   \n3        0.306516  0.217492  1.000000  0.177012  0.370732  0.247499  0.435648   \n4        0.133614  0.164651  0.177012  1.000000  0.179556  0.072518  0.184626   \n5        0.245102  0.278476  0.370732  0.179556  1.000000  0.272645  0.388476   \n...           ...       ...       ...       ...       ...       ...       ...   \n161944   0.079755  0.137594  0.000000  0.000000  0.000000  0.000000  0.000000   \n162376   0.079755  0.068797  0.000000  0.000000  0.000000  0.111103  0.000000   \n162542   0.000000  0.000000  0.000000  0.000000  0.000000  0.000000  0.000000   \n162672   0.000000  0.000000  0.000000  0.000000  0.000000  0.000000  0.000000   \n163949   0.055829  0.000000  0.000000  0.000000  0.000000  0.061724  0.079399   \n\n                8         9        10  ...    161084    161155    161594  \\\nmovieId                                ...                                 \n1        0.063031  0.117499  0.310689  ...  0.055829  0.031902  0.079755   \n2        0.223524  0.113669  0.418124  ...  0.000000  0.055038  0.068797   \n3        0.127574  0.306717  0.191255  ...  0.000000  0.000000  0.000000   \n4        0.501513  0.254630  0.111447  ...  0.000000  0.000000  0.000000   \n5        0.194113  0.367941  0.246846  ...  0.000000  0.176845  0.000000   \n...           ...       ...       ...  ...       ...       ...       ...   \n161944   0.000000  0.000000  0.000000  ...  0.000000  0.000000  0.000000   \n162376   0.000000  0.000000  0.076835  ...  0.000000  0.000000  1.000000   \n162542   0.000000  0.000000  0.000000  ...  0.000000  0.000000  0.000000   \n162672   0.000000  0.000000  0.000000  ...  0.000000  0.000000  0.000000   \n163949   0.000000  0.000000  0.000000  ...  1.000000  0.000000  0.000000   \n\n           161830    161918    161944    162376  162542  162672    163949  \nmovieId                                                                    \n1        0.079755  0.079755  0.079755  0.079755     0.0     0.0  0.055829  \n2        0.082557  0.082557  0.137594  0.068797     0.0     0.0  0.000000  \n3        0.116226  0.116226  0.000000  0.000000     0.0     0.0  0.000000  \n4        0.000000  0.000000  0.000000  0.000000     0.0     0.0  0.000000  \n5        0.117897  0.117897  0.000000  0.000000     0.0     0.0  0.000000  \n...           ...       ...       ...       ...     ...     ...       ...  \n161944   0.000000  0.000000  1.000000  0.000000     0.0     0.0  0.000000  \n162376   0.000000  0.000000  0.000000  1.000000     0.0     0.0  0.000000  \n162542   0.000000  0.000000  0.000000  0.000000     1.0     1.0  0.000000  \n162672   0.000000  0.000000  0.000000  0.000000     1.0     1.0  0.000000  \n163949   0.000000  0.000000  0.000000  0.000000     0.0     0.0  1.000000  \n\n[9066 rows x 9066 columns]",
      "text/html": "<div>\n<style scoped>\n    .dataframe tbody tr th:only-of-type {\n        vertical-align: middle;\n    }\n\n    .dataframe tbody tr th {\n        vertical-align: top;\n    }\n\n    .dataframe thead th {\n        text-align: right;\n    }\n</style>\n<table border=\"1\" class=\"dataframe\">\n  <thead>\n    <tr style=\"text-align: right;\">\n      <th></th>\n      <th>1</th>\n      <th>2</th>\n      <th>3</th>\n      <th>4</th>\n      <th>5</th>\n      <th>6</th>\n      <th>7</th>\n      <th>8</th>\n      <th>9</th>\n      <th>10</th>\n      <th>...</th>\n      <th>161084</th>\n      <th>161155</th>\n      <th>161594</th>\n      <th>161830</th>\n      <th>161918</th>\n      <th>161944</th>\n      <th>162376</th>\n      <th>162542</th>\n      <th>162672</th>\n      <th>163949</th>\n    </tr>\n    <tr>\n      <th>movieId</th>\n      <th></th>\n      <th></th>\n      <th></th>\n      <th></th>\n      <th></th>\n      <th></th>\n      <th></th>\n      <th></th>\n      <th></th>\n      <th></th>\n      <th></th>\n      <th></th>\n      <th></th>\n      <th></th>\n      <th></th>\n      <th></th>\n      <th></th>\n      <th></th>\n      <th></th>\n      <th></th>\n      <th></th>\n    </tr>\n  </thead>\n  <tbody>\n    <tr>\n      <th>1</th>\n      <td>1.000000</td>\n      <td>0.394511</td>\n      <td>0.306516</td>\n      <td>0.133614</td>\n      <td>0.245102</td>\n      <td>0.377086</td>\n      <td>0.278629</td>\n      <td>0.063031</td>\n      <td>0.117499</td>\n      <td>0.310689</td>\n      <td>...</td>\n      <td>0.055829</td>\n      <td>0.031902</td>\n      <td>0.079755</td>\n      <td>0.079755</td>\n      <td>0.079755</td>\n      <td>0.079755</td>\n      <td>0.079755</td>\n      <td>0.0</td>\n      <td>0.0</td>\n      <td>0.055829</td>\n    </tr>\n    <tr>\n      <th>2</th>\n      <td>0.394511</td>\n      <td>1.000000</td>\n      <td>0.217492</td>\n      <td>0.164651</td>\n      <td>0.278476</td>\n      <td>0.222003</td>\n      <td>0.207299</td>\n      <td>0.223524</td>\n      <td>0.113669</td>\n      <td>0.418124</td>\n      <td>...</td>\n      <td>0.000000</td>\n      <td>0.055038</td>\n      <td>0.068797</td>\n      <td>0.082557</td>\n      <td>0.082557</td>\n      <td>0.137594</td>\n      <td>0.068797</td>\n      <td>0.0</td>\n      <td>0.0</td>\n      <td>0.000000</td>\n    </tr>\n    <tr>\n      <th>3</th>\n      <td>0.306516</td>\n      <td>0.217492</td>\n      <td>1.000000</td>\n      <td>0.177012</td>\n      <td>0.370732</td>\n      <td>0.247499</td>\n      <td>0.435648</td>\n      <td>0.127574</td>\n      <td>0.306717</td>\n      <td>0.191255</td>\n      <td>...</td>\n      <td>0.000000</td>\n      <td>0.000000</td>\n      <td>0.000000</td>\n      <td>0.116226</td>\n      <td>0.116226</td>\n      <td>0.000000</td>\n      <td>0.000000</td>\n      <td>0.0</td>\n      <td>0.0</td>\n      <td>0.000000</td>\n    </tr>\n    <tr>\n      <th>4</th>\n      <td>0.133614</td>\n      <td>0.164651</td>\n      <td>0.177012</td>\n      <td>1.000000</td>\n      <td>0.179556</td>\n      <td>0.072518</td>\n      <td>0.184626</td>\n      <td>0.501513</td>\n      <td>0.254630</td>\n      <td>0.111447</td>\n      <td>...</td>\n      <td>0.000000</td>\n      <td>0.000000</td>\n      <td>0.000000</td>\n      <td>0.000000</td>\n      <td>0.000000</td>\n      <td>0.000000</td>\n      <td>0.000000</td>\n      <td>0.0</td>\n      <td>0.0</td>\n      <td>0.000000</td>\n    </tr>\n    <tr>\n      <th>5</th>\n      <td>0.245102</td>\n      <td>0.278476</td>\n      <td>0.370732</td>\n      <td>0.179556</td>\n      <td>1.000000</td>\n      <td>0.272645</td>\n      <td>0.388476</td>\n      <td>0.194113</td>\n      <td>0.367941</td>\n      <td>0.246846</td>\n      <td>...</td>\n      <td>0.000000</td>\n      <td>0.176845</td>\n      <td>0.000000</td>\n      <td>0.117897</td>\n      <td>0.117897</td>\n      <td>0.000000</td>\n      <td>0.000000</td>\n      <td>0.0</td>\n      <td>0.0</td>\n      <td>0.000000</td>\n    </tr>\n    <tr>\n      <th>...</th>\n      <td>...</td>\n      <td>...</td>\n      <td>...</td>\n      <td>...</td>\n      <td>...</td>\n      <td>...</td>\n      <td>...</td>\n      <td>...</td>\n      <td>...</td>\n      <td>...</td>\n      <td>...</td>\n      <td>...</td>\n      <td>...</td>\n      <td>...</td>\n      <td>...</td>\n      <td>...</td>\n      <td>...</td>\n      <td>...</td>\n      <td>...</td>\n      <td>...</td>\n      <td>...</td>\n    </tr>\n    <tr>\n      <th>161944</th>\n      <td>0.079755</td>\n      <td>0.137594</td>\n      <td>0.000000</td>\n      <td>0.000000</td>\n      <td>0.000000</td>\n      <td>0.000000</td>\n      <td>0.000000</td>\n      <td>0.000000</td>\n      <td>0.000000</td>\n      <td>0.000000</td>\n      <td>...</td>\n      <td>0.000000</td>\n      <td>0.000000</td>\n      <td>0.000000</td>\n      <td>0.000000</td>\n      <td>0.000000</td>\n      <td>1.000000</td>\n      <td>0.000000</td>\n      <td>0.0</td>\n      <td>0.0</td>\n      <td>0.000000</td>\n    </tr>\n    <tr>\n      <th>162376</th>\n      <td>0.079755</td>\n      <td>0.068797</td>\n      <td>0.000000</td>\n      <td>0.000000</td>\n      <td>0.000000</td>\n      <td>0.111103</td>\n      <td>0.000000</td>\n      <td>0.000000</td>\n      <td>0.000000</td>\n      <td>0.076835</td>\n      <td>...</td>\n      <td>0.000000</td>\n      <td>0.000000</td>\n      <td>1.000000</td>\n      <td>0.000000</td>\n      <td>0.000000</td>\n      <td>0.000000</td>\n      <td>1.000000</td>\n      <td>0.0</td>\n      <td>0.0</td>\n      <td>0.000000</td>\n    </tr>\n    <tr>\n      <th>162542</th>\n      <td>0.000000</td>\n      <td>0.000000</td>\n      <td>0.000000</td>\n      <td>0.000000</td>\n      <td>0.000000</td>\n      <td>0.000000</td>\n      <td>0.000000</td>\n      <td>0.000000</td>\n      <td>0.000000</td>\n      <td>0.000000</td>\n      <td>...</td>\n      <td>0.000000</td>\n      <td>0.000000</td>\n      <td>0.000000</td>\n      <td>0.000000</td>\n      <td>0.000000</td>\n      <td>0.000000</td>\n      <td>0.000000</td>\n      <td>1.0</td>\n      <td>1.0</td>\n      <td>0.000000</td>\n    </tr>\n    <tr>\n      <th>162672</th>\n      <td>0.000000</td>\n      <td>0.000000</td>\n      <td>0.000000</td>\n      <td>0.000000</td>\n      <td>0.000000</td>\n      <td>0.000000</td>\n      <td>0.000000</td>\n      <td>0.000000</td>\n      <td>0.000000</td>\n      <td>0.000000</td>\n      <td>...</td>\n      <td>0.000000</td>\n      <td>0.000000</td>\n      <td>0.000000</td>\n      <td>0.000000</td>\n      <td>0.000000</td>\n      <td>0.000000</td>\n      <td>0.000000</td>\n      <td>1.0</td>\n      <td>1.0</td>\n      <td>0.000000</td>\n    </tr>\n    <tr>\n      <th>163949</th>\n      <td>0.055829</td>\n      <td>0.000000</td>\n      <td>0.000000</td>\n      <td>0.000000</td>\n      <td>0.000000</td>\n      <td>0.061724</td>\n      <td>0.079399</td>\n      <td>0.000000</td>\n      <td>0.000000</td>\n      <td>0.000000</td>\n      <td>...</td>\n      <td>1.000000</td>\n      <td>0.000000</td>\n      <td>0.000000</td>\n      <td>0.000000</td>\n      <td>0.000000</td>\n      <td>0.000000</td>\n      <td>0.000000</td>\n      <td>0.0</td>\n      <td>0.0</td>\n      <td>1.000000</td>\n    </tr>\n  </tbody>\n</table>\n<p>9066 rows × 9066 columns</p>\n</div>"
     },
     "execution_count": 35,
     "metadata": {},
     "output_type": "execute_result"
    }
   ],
   "source": [
    "item_similarity_df"
   ],
   "metadata": {
    "collapsed": false,
    "ExecuteTime": {
     "end_time": "2024-06-03T14:28:32.415186Z",
     "start_time": "2024-06-03T14:28:32.371579400Z"
    }
   }
  },
  {
   "cell_type": "code",
   "execution_count": 59,
   "outputs": [
    {
     "name": "stdout",
     "output_type": "stream",
     "text": [
      "scores:  1        3.387088\n",
      "2        3.060594\n",
      "3        1.700749\n",
      "4        0.615344\n",
      "5        1.805388\n",
      "           ...   \n",
      "99846    0.000000\n",
      "999      0.000000\n",
      "99912    0.000000\n",
      "99917    0.000000\n",
      "99992    0.000000\n",
      "Length: 18132, dtype: float64\n",
      "scores sorted:  2105     7.896033\n",
      "2193     6.426608\n",
      "2455     6.069687\n",
      "1371     5.987611\n",
      "2985     5.939130\n",
      "           ...   \n",
      "2531     0.000000\n",
      "2532     0.000000\n",
      "2533     0.000000\n",
      "2534     0.000000\n",
      "99992    0.000000\n",
      "Length: 18132, dtype: float64\n",
      "Index([2105, 2193, 2455, 1371, 2985, 2968, 1214, 1374, 2139, 2294], dtype='object')\n"
     ]
    }
   ],
   "source": [
    "def recommend_movies(user_id, user_item_matrix, item_similarity_df, top_n=10):\n",
    "    # 获取用户已评分的电影及评分\n",
    "    user_ratings = user_item_matrix.loc[user_id].dropna()\n",
    "\n",
    "    # 初始化推荐得分\n",
    "    scores = pd.Series(0.0, index=item_similarity_df.columns)\n",
    "\n",
    "\n",
    "    # 遍历用户已评分的电影\n",
    "    for movie, rating in user_ratings.items():\n",
    "        # 获取与该电影相似的电影及其相似度\n",
    "        if movie not in item_similarity_df.columns:\n",
    "            continue\n",
    "        similar_movies = item_similarity_df[movie] * rating\n",
    "\n",
    "        # 根据用户对该电影的评分，计算推荐得分\n",
    "        # scores = scores + similar_movies\n",
    "        scores = scores.add(similar_movies, fill_value=0)\n",
    "\n",
    "    print(\"scores: \", scores)\n",
    "    print(\"scores sorted: \", scores.sort_values(ascending=False))\n",
    "\n",
    "    # 移除用户已评分的电影\n",
    "    scores = scores.drop(user_ratings.index)\n",
    "\n",
    "    # 返回推荐得分最高的电影\n",
    "    recommended_movies = scores.sort_values(ascending=False).head(top_n).index\n",
    "    return recommended_movies\n",
    "\n",
    "# 示例用户ID\n",
    "user_id = 1\n",
    "\n",
    "# 获取推荐的电影列表\n",
    "recommended_movies = recommend_movies(user_id, user_item_matrix, item_similarity_df)\n",
    "print(recommended_movies)\n"
   ],
   "metadata": {
    "collapsed": false,
    "ExecuteTime": {
     "end_time": "2024-06-03T15:01:16.933068400Z",
     "start_time": "2024-06-03T15:01:16.839667Z"
    }
   }
  }
 ],
 "metadata": {
  "kernelspec": {
   "display_name": "Python 3",
   "language": "python",
   "name": "python3"
  },
  "language_info": {
   "codemirror_mode": {
    "name": "ipython",
    "version": 2
   },
   "file_extension": ".py",
   "mimetype": "text/x-python",
   "name": "python",
   "nbconvert_exporter": "python",
   "pygments_lexer": "ipython2",
   "version": "2.7.6"
  }
 },
 "nbformat": 4,
 "nbformat_minor": 0
}
